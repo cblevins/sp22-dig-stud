{
 "cells": [
  {
   "cell_type": "markdown",
   "metadata": {},
   "source": [
    "# Python"
   ]
  },
  {
   "cell_type": "markdown",
   "metadata": {},
   "source": [
    "This is a gentle introduction to programming in Python, adapted from Miriam Posner's [\"Let's Play with Python!\"](http://miriamposner.com/classes/dh101f16/tutorials-guides/programming/lets-play-with-python/) and Folgert Karsdorp and Maarten van Gompel's *A Python Course for the Humanities*, [Ch. 1](https://nbviewer.jupyter.org/github/fbkarsdorp/python-course/blob/master/Chapter%201%20-%20Getting%20started.ipynb)"
   ]
  },
  {
   "cell_type": "markdown",
   "metadata": {},
   "source": [
    "---"
   ]
  },
  {
   "cell_type": "markdown",
   "metadata": {},
   "source": [
    "## Getting Started\n",
    "\n",
    "We're going to be using Jupyter Notebooks to write and run Python code. Jupyter notebooks are made up of cells - a chunk of text or code, kind of like a paragraph. There are a few different types of cells: Markdown vs. Code. This particular cell is an example of a **Markdown** cell. It's like writing normal text, but I can tweak things a little bit like writing in bold or italics or inserting hyperlinks.\n",
    "\n",
    "- Try inserting a new empty cell and writing your name and date as a header:"
   ]
  },
  {
   "cell_type": "markdown",
   "metadata": {},
   "source": [
    "In Python, you run/execute a **code** cell using Shift-Enter or by pressing the Run button in the toolbar. Make sure your cursor is inside the following code cell by clicking inside it, and then try running the code cell:"
   ]
  },
  {
   "cell_type": "code",
   "execution_count": null,
   "metadata": {},
   "outputs": [],
   "source": [
    "print(\"Welcome to Northeastern!\")"
   ]
  },
  {
   "cell_type": "markdown",
   "metadata": {},
   "source": [
    "The above code uses the ```print``` function to print out whatever is inside the parentheses. With a lot of programming languages, print doesn’t mean “print something on paper”; it means “show me this on the screen.”\n",
    "\n",
    "- Try writing code in the following cell that, when you run it, will **print your full name.**"
   ]
  },
  {
   "cell_type": "code",
   "execution_count": 1,
   "metadata": {},
   "outputs": [],
   "source": [
    "#This is a \"comment\" - when you start a line inside a code cell with a #, it tells Python to ignore it.\n",
    "#This is way to annotate or explain your code to a reader. It's kind of like a footnote. Kind of.\n",
    "#Write your code to print your name on the line below this one, then run the cell to see the output.\n"
   ]
  },
  {
   "cell_type": "markdown",
   "metadata": {},
   "source": [
    "Notice what happens when you run the following code cell:"
   ]
  },
  {
   "cell_type": "code",
   "execution_count": null,
   "metadata": {},
   "outputs": [],
   "source": [
    "print(Welcome to Northeastern!)"
   ]
  },
  {
   "cell_type": "markdown",
   "metadata": {},
   "source": [
    "You should get an error message. That's okay! You're going to get a lot of these. It just means something isn't quite right with your code that you need to fix. In this case, we didn't put quotation marks around the text that we're trying to print. \n",
    "\n",
    "- Insert a new code cell using Insert -> Insert Cell Below, fix the problem, and add like 7-10 exclamation marks (because debugging is exciting)."
   ]
  },
  {
   "cell_type": "markdown",
   "metadata": {},
   "source": [
    "----------"
   ]
  },
  {
   "cell_type": "markdown",
   "metadata": {},
   "source": [
    "## Variables and Operations\n",
    "\n",
    "You can begin unlocking the power of a programming language when you start using variables. Think of a variable as a bucket with a label on the side. You can fill that bucket with different things, dump those things out, re-fill it, etc. The labeled bucket stays the same, but the content changes. A variable could stand for text (known as a \"string\"), or a number, or even a series of operations. To start, we’ll assign a variable to a string. \n",
    "\n",
    "**Insert a new code cell using Insert -> Insert Cell Below. Then type: ```a = \"I love history\"``` in the empty code cell you created and run the cell.**"
   ]
  },
  {
   "cell_type": "markdown",
   "metadata": {},
   "source": [
    "It looks like nothing happened! But by running your code you actually created a new variable, ```a```, and assigned it a **value** of \"I love history.\" \n",
    "\n",
    "- You can see if it worked by inserting a new cell and running: ```print(a)```"
   ]
  },
  {
   "cell_type": "markdown",
   "metadata": {},
   "source": [
    "What do you think will happen if you type:\n",
    "```a+a+a+a```"
   ]
  },
  {
   "cell_type": "code",
   "execution_count": null,
   "metadata": {},
   "outputs": [],
   "source": [
    "#try it here:\n"
   ]
  },
  {
   "cell_type": "markdown",
   "metadata": {},
   "source": [
    "There are different **types** or kinds of variables. In the above example, your `a` variable is a **string**, which is fancy programming term for text. Python is using the `+` operator to combine whatever value is contained in the variable, in this case linking together the string that is stored in `a` four times. \n",
    "\n",
    "Operators like `+` are more commonly used with a different type of variable: an **integer**, which is a specific kind of number. \n",
    "\n",
    "- Try creating a new variable named `age` that stores the value of your age:"
   ]
  },
  {
   "cell_type": "code",
   "execution_count": null,
   "metadata": {},
   "outputs": [],
   "source": []
  },
  {
   "cell_type": "markdown",
   "metadata": {},
   "source": [
    "Now write a line of code that calculates your age forty years from now using the variable `age`:"
   ]
  },
  {
   "cell_type": "code",
   "execution_count": null,
   "metadata": {},
   "outputs": [],
   "source": []
  },
  {
   "cell_type": "markdown",
   "metadata": {},
   "source": [
    "Note: A string in Python must be enclosed with quotes (either single or double quotes), whereas the names of variables don't have quotes. So in the above example of `age`, if you `print(age)` it will print out whatever the value of that variable is. Whereas if you print the string \"age\": `print(\"age\")` , you will...actually, why don't you try it and see what happens!"
   ]
  },
  {
   "cell_type": "code",
   "execution_count": null,
   "metadata": {},
   "outputs": [],
   "source": [
    "#try printing the variable age on one line and printing the string \"age\" on the next line:\n"
   ]
  },
  {
   "cell_type": "markdown",
   "metadata": {},
   "source": [
    "Now try writing a program that calculates the number of **toes** in this classroom *based on the number of people.* Make two variables, `people` and `toes`, and use a `print()` command to show your result."
   ]
  },
  {
   "cell_type": "code",
   "execution_count": null,
   "metadata": {},
   "outputs": [],
   "source": []
  },
  {
   "cell_type": "markdown",
   "metadata": {},
   "source": [
    "Okay, now let's take a look at a longer program. *Before* running the cell, read through the lines of code with the person next to you and guess what each line is doing. Add a comment at the end of each line with your guess. It's okay if you don't know!"
   ]
  },
  {
   "cell_type": "code",
   "execution_count": null,
   "metadata": {},
   "outputs": [],
   "source": [
    "# This program says hello and asks for my name.\n",
    "print('Hello!') #this line prints \"Hello!\"\n",
    "print('What is your name?')    \n",
    "myName = input()\n",
    "print('It is good to meet you, ' + myName)\n",
    "print('The length of your name is:')\n",
    "print(len(myName))\n",
    "print('What is your age?')\n",
    "myAge = input()\n",
    "nextYear = int(myAge) + 1\n",
    "printNextYear = str(nextYear)\n",
    "print('You will be ' + printNextYear + ' in a year.')"
   ]
  },
  {
   "cell_type": "markdown",
   "metadata": {},
   "source": [
    "When you've finished with your guess, run the cell, see what happens, and go back and revise your comments. "
   ]
  },
  {
   "cell_type": "markdown",
   "metadata": {},
   "source": [
    "---"
   ]
  },
  {
   "cell_type": "markdown",
   "metadata": {},
   "source": [
    "### GROUP CHECK-IN\n",
    "Notify me when you reach this point. If you finish before your classmates, you can either see if anyone next to you needs help or move on to the bonus exercises below.\n",
    "\n",
    "As a group:\n",
    "* What does each line of code do? \n",
    "* Look at our \"toes\" counting program. Do you see any potential problems with this program if we were to use it in the real world? What are some scenarios in which it wouldn't work?\n",
    "* What questions do you have? What is confusing?"
   ]
  },
  {
   "cell_type": "markdown",
   "metadata": {},
   "source": [
    "---"
   ]
  },
  {
   "cell_type": "markdown",
   "metadata": {},
   "source": [
    "Bonus 1:\n",
    "\n",
    "Assign three variables - student1, student2, student3 - and write a print statement that outputs a full sentence about the three people next to you."
   ]
  },
  {
   "cell_type": "code",
   "execution_count": null,
   "metadata": {},
   "outputs": [],
   "source": []
  },
  {
   "cell_type": "markdown",
   "metadata": {},
   "source": [
    "Bonus 2:\n",
    "\n",
    "Let's say you want to get a very rough estimate for how many total hours of work you have left in the semester for this class. Come up with some variables (ex. `weeks`, `time`) and write a script that outputs an estimate. The goal is to have a script that each week you can just change the value of **one variable** to get an updated estimate."
   ]
  },
  {
   "cell_type": "code",
   "execution_count": null,
   "metadata": {},
   "outputs": [],
   "source": []
  }
 ],
 "metadata": {
  "kernelspec": {
   "display_name": "Python 3",
   "language": "python",
   "name": "python3"
  },
  "language_info": {
   "codemirror_mode": {
    "name": "ipython",
    "version": 3
   },
   "file_extension": ".py",
   "mimetype": "text/x-python",
   "name": "python",
   "nbconvert_exporter": "python",
   "pygments_lexer": "ipython3",
   "version": "3.7.3"
  }
 },
 "nbformat": 4,
 "nbformat_minor": 1
}
