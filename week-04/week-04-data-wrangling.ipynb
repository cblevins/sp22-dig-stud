{
 "cells": [
  {
   "cell_type": "markdown",
   "metadata": {},
   "source": [
    "## Overview\n",
    "\n",
    "Python notebook for Week 4's in-class portion for Introduction to Digital History (Fall 2019). \n",
    "\n",
    "The following cell imports \"libraries.\" These are bundles of functions that other people have put together to help you do certain tasks. The `os` library stands for \"operating system\" and helps you deal with the files, directories, file paths, etc. on your computer. The `string` package has some handy tools for dealing with textual data (\"strings\")."
   ]
  },
  {
   "cell_type": "code",
   "execution_count": null,
   "metadata": {},
   "outputs": [],
   "source": [
    "import os\n",
    "import string"
   ]
  },
  {
   "cell_type": "markdown",
   "metadata": {},
   "source": [
    "---"
   ]
  },
  {
   "cell_type": "markdown",
   "metadata": {},
   "source": [
    "## Get the Data\n",
    "\n",
    "Our first task is to stitch together all of the different text files that each of us transcribed. Our general plan is to take in a bunch of different text files then add all of their contents together in a single big text file. "
   ]
  },
  {
   "cell_type": "markdown",
   "metadata": {},
   "source": [
    "Specify folder where the data is in and what folder you're going to put the new text file in. Create a new empty text file `combined-files.txt`. This will be where we eventually add all of the text that we combine into one file. "
   ]
  },
  {
   "cell_type": "code",
   "execution_count": null,
   "metadata": {},
   "outputs": [],
   "source": [
    "data_folder_path = os.path.join(os.getcwd(), \"data\") \n",
    "output_folder_path = os.path.join(os.getcwd(), \"output\")\n",
    "outfile=open(os.path.join(output_folder_path, 'combined-files.txt'), mode='w', encoding='utf-8')"
   ]
  },
  {
   "cell_type": "markdown",
   "metadata": {},
   "source": [
    "Let's try to read in a single file in our `data` folder and take a look at its contents."
   ]
  },
  {
   "cell_type": "code",
   "execution_count": null,
   "metadata": {},
   "outputs": [],
   "source": [
    "## cell to just read in a file\n",
    "infile=open(os.path.join(data_folder_path, \"blevins.txt\"), mode='r', encoding='utf-8')\n",
    "text = infile.read()\n",
    "print(text)"
   ]
  },
  {
   "cell_type": "markdown",
   "metadata": {},
   "source": [
    "Now try reading in the file that YOU made and print out its contents."
   ]
  },
  {
   "cell_type": "code",
   "execution_count": null,
   "metadata": {},
   "outputs": [],
   "source": []
  },
  {
   "cell_type": "markdown",
   "metadata": {},
   "source": [
    "Next we're going to use something called a `for` loop. This is a means of going through a bunch of things (in this case, a `list`) and doing the same thing for all of them. So if we have a bucket of rocks, we're going to take out each rock one by one and, say, paint it a certain color. In this example, we are going to print out its name but use the `upper()` function to put it in upper-case."
   ]
  },
  {
   "cell_type": "code",
   "execution_count": null,
   "metadata": {},
   "outputs": [],
   "source": [
    "bucket = [\"Big rock\", \"Small Rock\", \"medium rock\", \"just right rock\"]\n",
    "for rock in bucket:\n",
    "    print(rock.upper())"
   ]
  },
  {
   "cell_type": "markdown",
   "metadata": {},
   "source": [
    "Try making your own for loop for the following list and print out the value of that number plus twelve."
   ]
  },
  {
   "cell_type": "code",
   "execution_count": null,
   "metadata": {},
   "outputs": [],
   "source": [
    "number_list=[1,3,5,7,9,11]\n",
    "\n"
   ]
  },
  {
   "cell_type": "markdown",
   "metadata": {},
   "source": [
    "Now we're going to use lists and for loops to get a list of filenames that are contained in the `data` folder and assign it to a variable called `file_list`. "
   ]
  },
  {
   "cell_type": "code",
   "execution_count": null,
   "metadata": {},
   "outputs": [],
   "source": [
    "file_list = os.listdir(data_folder_path)\n",
    "print(file_list)"
   ]
  },
  {
   "cell_type": "markdown",
   "metadata": {},
   "source": [
    "Then we'll Use a `for` loop to go through this list of filenames one by one and print the name of it. We can also tell it to only look at files that end with '.txt'"
   ]
  },
  {
   "cell_type": "code",
   "execution_count": null,
   "metadata": {},
   "outputs": [],
   "source": [
    "print(\"List of all files:\")\n",
    "for f in file_list:\n",
    "    print(f)\n",
    "\n",
    "print(\"\\nNow only show text files:\")\n",
    "for f in file_list:\n",
    "    if f.endswith('.txt'):\n",
    "        print(f)"
   ]
  },
  {
   "cell_type": "markdown",
   "metadata": {},
   "source": [
    "3. Use a `for` loop to go through our `file_list` list of filenames, open up each of these files, read in their contents, and add those contents to `combined-files.txt`. "
   ]
  },
  {
   "cell_type": "code",
   "execution_count": null,
   "metadata": {},
   "outputs": [],
   "source": [
    "for f in file_list:\n",
    "    if f.endswith('.txt'):\n",
    "        infile=open(os.path.join(data_folder_path, f), mode='r', encoding='utf-8-sig')\n",
    "        file_text=infile.read()\n",
    "        outfile.write(file_text)\n",
    "        outfile.write(\"\\n\")\n",
    "outfile.close()   "
   ]
  },
  {
   "cell_type": "markdown",
   "metadata": {},
   "source": [
    "## Analyze the Data\n",
    "\n",
    "Now that we have a single file with all of our data, we're going to do some basic text analysis of it."
   ]
  },
  {
   "cell_type": "markdown",
   "metadata": {},
   "source": [
    "Open up our text file with all of the phrases. Ignore the \"encoding\" part for now."
   ]
  },
  {
   "cell_type": "code",
   "execution_count": null,
   "metadata": {},
   "outputs": [],
   "source": [
    "#open a file and read its contents\n",
    "infile=open('data/week-04-working.txt', mode='r', encoding='utf-8-sig')\n",
    "file_contents=infile.read()\n",
    "infile.close()"
   ]
  },
  {
   "cell_type": "markdown",
   "metadata": {},
   "source": [
    "Create a list called `lines` with each item as a separate line of our text file. This \"splits\" the file up using a new line character (`\\n`)."
   ]
  },
  {
   "cell_type": "code",
   "execution_count": null,
   "metadata": {},
   "outputs": [],
   "source": [
    "#create a list called lines by splitting the contents of the text file every time there's a new line\n",
    "lines=file_contents.split('\\n')\n",
    "print(\"List of phrases:\", lines)\n",
    "cleaned_lines=[]\n",
    "for phrase in lines:\n",
    "    phrase=phrase.strip()\n",
    "    phrase=phrase.lower()\n",
    "    phrase=phrase.replace('\\'', \"\") #*** REPLACE ONE WORD WITH ANOTHER INSTAED OF PUNCTUATION\n",
    "    cleaned_lines.append(phrase)\n",
    "print(\"Cleaned list of phrases:\", cleaned_lines)\n",
    "lines=cleaned_lines"
   ]
  },
  {
   "cell_type": "markdown",
   "metadata": {},
   "source": [
    "Do some basic calculations:\n",
    "1. How many phrases did students write down in total? Ie. how many lines were there in the file?\n",
    "2. On average, how many phrases did students write down? (Note: let's say there were 13 students)."
   ]
  },
  {
   "cell_type": "code",
   "execution_count": null,
   "metadata": {},
   "outputs": [],
   "source": [
    "#how many phrases are there? Assuming 1 per line, can just calculate how long the list we just made is\n",
    "total_phrases = len(lines)\n",
    "total_students = 13\n",
    "phrases_per_student = total_phrases/total_students\n",
    "print(\"Number of total phrases: \", total_phrases)\n",
    "print(\"Average number of phrases per student: \", phrases_per_student)"
   ]
  },
  {
   "cell_type": "markdown",
   "metadata": {},
   "source": [
    "Now let's see how many *unique* phrases students wrote down, just in case there was overlap."
   ]
  },
  {
   "cell_type": "code",
   "execution_count": null,
   "metadata": {},
   "outputs": [],
   "source": [
    "#Loop through the list of phrases and create a list of unique phrases.\n",
    "unique_phrases=[]\n",
    "for phrase in lines:\n",
    "    if phrase not in unique_phrases:\n",
    "        unique_phrases.append(phrase)\n",
    "    else:\n",
    "        print(\"Duplicate!\", phrase)\n",
    "print(unique_phrases)\n",
    "print(\"Number of unique phrases: \", len(unique_phrases))"
   ]
  },
  {
   "cell_type": "markdown",
   "metadata": {},
   "source": [
    "What are the longest and shortest phrases as measured by number of characters?"
   ]
  },
  {
   "cell_type": "code",
   "execution_count": null,
   "metadata": {},
   "outputs": [],
   "source": [
    "#what is the longest phrase by number of characters?\n",
    "print(\"Longest phrase: \", max(unique_phrases, key=len))\n",
    "print(\"Shortest phrase: \", min(unique_phrases, key=len))"
   ]
  },
  {
   "cell_type": "markdown",
   "metadata": {},
   "source": [
    "Now we're going to use some longer code to get phrase **frequencies**. For now, don't worry about the code itself. This is to show you what you can start to do with text analysis, which we'll talk about later in the semester."
   ]
  },
  {
   "cell_type": "code",
   "execution_count": null,
   "metadata": {},
   "outputs": [],
   "source": [
    "#Use a dictionary to calculate how many times each phrase was written by a student.\n",
    "phrases_freq={}\n",
    "\n",
    "for phrase in lines:\n",
    "    if phrase in phrases_freq:\n",
    "        phrases_freq[phrase]=phrases_freq[phrase]+1\n",
    "    else:\n",
    "        phrases_freq[phrase]=1\n",
    "    \n",
    "#for p in phrases_freq:\n",
    "#    print(p, \": \", phrases_freq[p])\n",
    " \n",
    "# Create a list of tuples so we can sort our dictionary items   \n",
    "listofTuples = sorted(phrases_freq.items() ,  key=lambda x: x[1], reverse=True)\n",
    "for p in listofTuples:\n",
    "    print(p[0], \":\", p[1])\n",
    "print(\"The most common word is:\", listofTuples[0][0], \", and it occurs:\", listofTuples[0][1], \"times.\")"
   ]
  },
  {
   "cell_type": "code",
   "execution_count": null,
   "metadata": {},
   "outputs": [],
   "source": []
  }
 ],
 "metadata": {
  "kernelspec": {
   "display_name": "Python 3",
   "language": "python",
   "name": "python3"
  },
  "language_info": {
   "codemirror_mode": {
    "name": "ipython",
    "version": 3
   },
   "file_extension": ".py",
   "mimetype": "text/x-python",
   "name": "python",
   "nbconvert_exporter": "python",
   "pygments_lexer": "ipython3",
   "version": "3.7.3"
  }
 },
 "nbformat": 4,
 "nbformat_minor": 2
}
